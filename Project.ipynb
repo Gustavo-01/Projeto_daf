{
 "cells": [
  {
   "cell_type": "markdown",
   "metadata": {},
   "source": [
    "# Project"
   ]
  },
  {
   "cell_type": "markdown",
   "metadata": {},
   "source": [
    "## Abstract\n",
    "We took a look at how the extreme solutions of the free energy equation behave with respect to the temperature and check what happens when we couple the bands with one another. \n",
    "We checked that for the first coupling term, $\\nu(|\\psi_1|^2|\\psi_2|^2)$, as when a field is aproximately constant, the coupling term becomes a first order field and it alters direcly the effective temperature, shifting the critical temperature of each band. \n",
    "As for the second term, $-\\eta(\\psi_1\\psi_2^*+\\psi_2\\psi_1^*)$, we checked that depending on the coupling parammeter, $\\eta$, the field with the lowest critical temperature, leaves it's usual behavior, when $\\eta=0$, and starts approaching the other field's critical temperature."
   ]
  },
  {
   "cell_type": "markdown",
   "metadata": {},
   "source": [
    "## Introduction\n",
    "\n",
    "The free energy, $F$, of a superconductor describes the superconducting transition and can be expressed in terms of a  complex   order parameter  field, $\\psi(r) = |\\psi(r)|e^{i\\phi(r)}$, where the quantity $|\\psi(r)|^2$ is a measure of the local density, like a quantum mechanics  wave function <ref name=\":0\" /> and $\\psi(r)$ is nonzero below a phase transition into a superconducting state. The usual free energy equation is expressed as\n",
    "\n",
    "$$ F = F_n + \\alpha |\\psi|^2 + \\frac{\\beta}{2} |\\psi|^4 + \\frac{1}{2m^*} \\left| \\left(-i\\hbar\\nabla - \\frac{q^*}{c}\\mathbf{A} \\right) \\psi \\right|^2 + \\frac{|\\mathbf{B}|^2}{8\\pi} $$\n",
    "\n",
    "\n",
    "where $F_n$ is the free energy in the normal phase, $α$ and $β$ in the initial argument were treated as phenomenological parameters, $m$ is an  effective mass (solid-state physics)|effective mass, $e$ is the charge of an electron, $'A$' is the  magnetic vector potential , and $\\mathbf{B}=\\nabla \\times \\mathbf{A}$ is the magnetic field. By minimizing the free energy with respect to variations in the order parameter and the vector potential, one arrives at the Ginzburg–Landau equations, which can be useful to determine the field, $\\psi$, in terms of the temperature, due to expressing, $\\alpha=\\alpha_0(T-T_c)$.\n",
    "In this project, we are going to consider a third order field, to the field $\\psi_2$ , and some new coupling terms, where the fields are uniform, and there are no eletric nor magnetic fields, and so the full free energy equation is\n",
    "$$F=\\alpha_1|\\psi_1|^2+\\alpha_2|\\psi_2|^2+\\frac{\\beta}{2}(|\\psi_1|^4+|\\psi_2|^4)+ \\frac{\\gamma}{3}|\\psi_2|^6+\\nu(|\\psi_1|^2|\\psi_2|^2)-\\eta(\\psi_1\\psi_2^*+\\psi_2\\psi_1^*).$$\n",
    "\n"
   ]
  },
  {
   "cell_type": "markdown",
   "metadata": {},
   "source": [
    "## Constants"
   ]
  },
  {
   "cell_type": "code",
   "execution_count": 41,
   "metadata": {
    "vscode": {
     "languageId": "plaintext"
    }
   },
   "outputs": [],
   "source": [
    "clear all\n",
    "\n",
    "alpha_0 = 2;\n",
    "beta = 5;\n",
    "gama = 1;\n",
    "v=-2;\n",
    "n = 0.5;\n",
    "Tc1 = 130;\n",
    "Tc2 = 100;\n",
    "Tf = 160;\n",
    "dT = 0.1;"
   ]
  },
  {
   "cell_type": "code",
   "execution_count": 45,
   "metadata": {
    "vscode": {
     "languageId": "plaintext"
    }
   },
   "outputs": [],
   "source": [
    "alpha_1 = @ (T) alpha_0 * (T-Tc1);\n",
    "alpha_2 = @ (T) alpha_0 * (T-Tc2);"
   ]
  },
  {
   "cell_type": "markdown",
   "metadata": {},
   "source": [
    "## Free energy equation"
   ]
  },
  {
   "cell_type": "markdown",
   "metadata": {},
   "source": [
    "### Free energy with a third order term"
   ]
  },
  {
   "cell_type": "markdown",
   "metadata": {},
   "source": [
    "$$F=\\alpha_1|\\psi_1|^2+\\alpha_2|\\psi_2|^2+\\frac{\\beta}{2}(|\\psi_1|^4+|\\psi_2|^4)+ \\frac{\\gamma}{3}|\\psi_2|^6$$"
   ]
  },
  {
   "cell_type": "markdown",
   "metadata": {},
   "source": [
    "Let's minimize the equation by deriving with respect to $|\\psi_{1,2}|$, we get,$$\\frac{dF}{d|\\psi_2|}=\\psi(\\alpha_2+\\beta|\\psi|^2+\\gamma|\\psi|^4)=0 \\Leftrightarrow |\\psi_2|=\\pm\\sqrt{\\frac{-\\beta\\pm\\sqrt{\\beta^2-4\\alpha_2\\gamma}}{2\\gamma}}$$\n",
    "$$\\frac{dF}{d|\\psi_1|}=2\\alpha_1\\psi+2\\beta|\\psi|^2\\psi=0\\Leftrightarrow \\psi(\\alpha_1+\\beta|\\psi|^2)=0\\Leftrightarrow|\\psi|=\\pm \\sqrt{-\\frac{\\alpha_1}{\\beta}}$$"
   ]
  },
  {
   "cell_type": "markdown",
   "metadata": {},
   "source": [
    "We are only interested in the positive solutions, so we are going to ignore the negative ones, and ignore the complex solutions."
   ]
  },
  {
   "cell_type": "code",
   "execution_count": 34,
   "metadata": {
    "vscode": {
     "languageId": "plaintext"
    }
   },
   "outputs": [
    {
     "data": {
      "image/png": "[encoded data removed]",
      "text/plain": [
       "<IPython.core.display.Image object>"
      ]
     },
     "metadata": {},
     "output_type": "display_data"
    }
   ],
   "source": [
    "psi1=@(T) (T<Tc1).* sqrt(-alpha_1(T)/beta);\n",
    "psi2= @(T) (T<Tc2).* sqrt((-beta+sqrt(beta^2-4*alpha_2(T)*gama))/(2*gama));\n",
    "\n",
    "T=0:dT:Tf;\n",
    "\n",
    "psi2_nocoup=psi2(T);\n",
    "psi1_nocoup=psi1(T);\n",
    "\n",
    "plot(T(1:length(psi2_nocoup)),psi2_nocoup,'r')\n",
    "hold on\n",
    "plot(T(1:length(psi1_nocoup)),psi1_nocoup,'k')\n",
    "\n",
    "legend('\\Psi_2^+','\\Psi_1')"
   ]
  },
  {
   "cell_type": "markdown",
   "metadata": {},
   "source": [
    "### Free energy with a coupling and without a third order term"
   ]
  },
  {
   "cell_type": "markdown",
   "metadata": {},
   "source": [
    "#### $F_{\\psi_1\\psi_2}=-\\eta(\\psi_1\\psi_2^*+\\psi_2\\psi_1^*)$"
   ]
  },
  {
   "cell_type": "markdown",
   "metadata": {},
   "source": [
    "$$F=\\alpha_1|\\psi_1|^2+\\alpha_2|\\psi_2|^2+\\frac{\\beta}{2}(|\\psi_1|^4+|\\psi_2|^4)-\\eta(\\psi_1\\psi_2^*+\\psi_2\\psi_1^*)$$"
   ]
  },
  {
   "cell_type": "markdown",
   "metadata": {},
   "source": [
    "It's painfully hard, to find the extreme solutions of the free energy equation analytically, and so we have to solve it using numerical methods. But even tho we can still simplify this a bit, checking it's derivative with $\\phi_1$\n",
    "$$\\frac{\\partial F}{\\partial \\phi}=2|\\psi_1||\\psi_2|sin(\\phi_1-\\phi_2)=0 \\Leftrightarrow \\phi_1=\\phi_2$$\n",
    "and so the coupling term gets reduced gets reduced to\n",
    "$$F_{\\psi_1\\psi_2}=-2\\eta|\\psi_2||\\psi_1|$$"
   ]
  },
  {
   "cell_type": "code",
   "execution_count": 35,
   "metadata": {
    "vscode": {
     "languageId": "plaintext"
    }
   },
   "outputs": [
    {
     "name": "stdout",
     "output_type": "stream",
     "text": [
      "Created file '/home/parracho/Homework 4/Projeto_daf/solve_F.m'.\n"
     ]
    }
   ],
   "source": [
    "%%file solve_F.m\n",
    "\n",
    "function [output] = solve_F(alpha_0,beta,gama,n,Tc1,Tc2,T,PsiMax,PsiMin)\n",
    "    alpha_1 = @ (T) alpha_0 * (T-Tc1);\n",
    "    alpha_2 = @ (T) alpha_0 * (T-Tc2);\n",
    "    \n",
    "    F_funct = @(psi1,psi2) alpha_1(T) * psi1^2 + alpha_2(T) * psi2^2 + beta*(psi1^4+psi2^4)/2 + gama*( psi2^6 ) / 3 - n * ( 2 * psi1 * psi2 );\n",
    "    \n",
    "    dPsi = 0.1;\n",
    "    \n",
    "    k = 0;\n",
    "    mins = [];\n",
    "    i = 0;\n",
    "    Psi = PsiMin-4*dPsi:dPsi:PsiMax+4*dPsi;\n",
    "    for psi_1 = Psi\n",
    "        i=i+1;\n",
    "        g=0;\n",
    "        for psi_2 = Psi\n",
    "            g=g+1;\n",
    "            F(i,g) = F_funct(psi_1,psi_2);\n",
    "            % FIND MINIMUM\n",
    "            if i > 2 && g > 2\n",
    "                if(F(i,g-1) > F(i-1,g-1) && F(i-2,g) > F(i-1,g-1) && F(i-1,g) > F(i-1,g-1) && F(i-1,g-2) > F(i-1,g-1))\n",
    "                    k=k+1;\n",
    "                    mins(k,:) = [Psi(i-1),Psi(g-1)];\n",
    "                end                \n",
    "            end\n",
    "        end\n",
    "    end\n",
    "    \n",
    "    if k == 0\n",
    "        output = [0,0];\n",
    "    else\n",
    "        output = mins(k,:);\n",
    "    end\n",
    "end"
   ]
  },
  {
   "cell_type": "code",
   "execution_count": 36,
   "metadata": {
    "vscode": {
     "languageId": "plaintext"
    }
   },
   "outputs": [],
   "source": [
    "psi_1 = zeros(Tc1/dT-1,1);\n",
    "psi_2 = zeros(Tc1/dT-1,1);\n",
    "\n",
    "%Find Psi(T) values\n",
    "\n",
    "PsiMax = 8; \n",
    "PsiMin = 0;\n",
    "\n",
    "i = 0;\n",
    "T = 0:dT:Tf;\n",
    "for t = T\n",
    "    i=i+1;\n",
    "\n",
    "    out = solve_F(alpha_0,beta,0,n,Tc1,Tc2,t,PsiMax,PsiMin);\n",
    "    psi_1(i) = out(1);\n",
    "    psi_2(i) = out(2);\n",
    "    PsiMax = max([psi_1(i),psi_2(i)]) * (1.3);\n",
    "    PsiMin = min([psi_1(i),psi_2(i)]) * (0.30);\n",
    "end"
   ]
  },
  {
   "cell_type": "code",
   "execution_count": 37,
   "metadata": {
    "vscode": {
     "languageId": "plaintext"
    }
   },
   "outputs": [
    {
     "data": {
      "image/png": "[encoded data removed]",
      "text/plain": [
       "<IPython.core.display.Image object>"
      ]
     },
     "metadata": {},
     "output_type": "display_data"
    }
   ],
   "source": [
    "plot(T(1:length(psi_1)),psi_1,'r')\n",
    "hold on\n",
    "plot(T(1:length(psi_1)),psi_2,'b')\n",
    "T=0:dT:Tf;\n",
    "plot(T,psi1_nocoup,'r--')\n",
    "plot(T,psi2_nocoup,'b--')"
   ]
  },
  {
   "cell_type": "markdown",
   "metadata": {},
   "source": [
    "#### $F_{\\psi_1\\psi_2}=\\nu(|\\psi_1|^2|\\psi_2|^2)$"
   ]
  },
  {
   "cell_type": "markdown",
   "metadata": {},
   "source": [
    "$$F=\\alpha_1|\\psi_1|^2+\\alpha_2|\\psi_2|^2+\\frac{\\beta}{2}(|\\psi_1|^4+|\\psi_2|^4)+\\nu(|\\psi_1|^2|\\psi_2|^2)$$"
   ]
  },
  {
   "cell_type": "markdown",
   "metadata": {},
   "source": [
    "To find the extreme points we take the derivative of the free energy with respect to $|\\psi_i|$,$$\\frac{dF}{d|\\psi_i|}=\\alpha_i|\\psi_i|+\\beta|\\psi_i|^3+\\nu|\\psi_j|^2|\\psi_i|=0 \\Leftrightarrow $$\n",
    "$$\\Leftrightarrow |\\psi_i|(\\alpha_i+\\beta|\\psi_i|^2+\\nu|\\psi_j|^2)=0\\Leftrightarrow |\\psi_i|=0 \\vee \\alpha_i+\\beta|\\psi_i|^2+\\nu|\\psi_j|^2=0 $$\n",
    "$$\\Leftrightarrow |\\psi_i|=0 \\vee |\\psi_j|^2=-\\frac{1}{\\nu}(\\alpha_i+\\beta|\\psi_i|^2)$$\n",
    "with $j\\neq i$.\n",
    "$$\\left\\{\\begin{array}{c} |\\psi_1|^2=-\\frac{1}{\\beta}(\\alpha_1+\\nu|\\psi_2|^2) \\\\ |\\psi_2|^2=-\\frac{1}{\\beta}(\\alpha_1+\\nu|\\psi_1|^2)\\end{array}\\right. \\Leftrightarrow |\\psi_1|^2=|\\psi_2|^2=\\frac{-\\alpha_{1,2}}{\\nu+\\beta}$$"
   ]
  },
  {
   "cell_type": "code",
   "execution_count": 46,
   "id": "e1e5ffb5",
   "metadata": {
    "vscode": {
     "languageId": "json"
    }
   },
   "outputs": [],
   "source": [
    "psi_1 = @(T) sqrt(-alpha_1(T)/(v+beta));\n",
    "psi_2 = @(T) sqrt(-alpha_2(T)/(v+beta));"
   ]
  },
  {
   "cell_type": "code",
   "execution_count": 47,
   "id": "ab46e4d4",
   "metadata": {
    "scrolled": false,
    "vscode": {
     "languageId": "json"
    }
   },
   "outputs": [
    {
     "name": "stdout",
     "output_type": "stream",
     "text": [
      "Warning: Imaginary parts of complex X and/or Y arguments ignored.\n",
      "Warning: Imaginary parts of complex X and/or Y arguments ignored.\n"
     ]
    },
    {
     "data": {
      "image/png": "[encoded data removed]",
      "text/plain": [
       "<IPython.core.display.Image object>"
      ]
     },
     "metadata": {},
     "output_type": "display_data"
    }
   ],
   "source": [
    "T = 0:dT:Tf;\n",
    "plot(T,psi_1(T),'b')\n",
    "hold on\n",
    "plot(T,psi_2(T),'r')\n",
    "xlabel('T')\n",
    "ylabel('\\Psi')\n",
    "legend('\\Psi_1','\\Psi_2')"
   ]
  },
  {
   "cell_type": "markdown",
   "metadata": {},
   "source": [
    "### Free energy with coupling"
   ]
  },
  {
   "cell_type": "markdown",
   "metadata": {},
   "source": [
    "#### $F_{\\psi_1\\psi_2}=-2\\eta|\\psi_2||\\psi_1|$"
   ]
  },
  {
   "cell_type": "markdown",
   "metadata": {},
   "source": [
    "$$F=\\alpha_1|\\psi_1|^2+\\alpha_2|\\psi_2|^2+\\frac{\\beta}{2}(|\\psi_1|^4+|\\psi_2|^4)+ \\frac{\\gamma}{3}|\\psi_2|^6-2\\eta|\\psi_2||\\psi_1|$$"
   ]
  },
  {
   "cell_type": "markdown",
   "metadata": {},
   "source": [
    "As mentioned before, and with the new third order term it's even more difficult to determine the extreme solutions, and so we are going to find them numerically."
   ]
  },
  {
   "cell_type": "code",
   "execution_count": 9,
   "metadata": {
    "vscode": {
     "languageId": "plaintext"
    }
   },
   "outputs": [
    {
     "name": "stdout",
     "output_type": "stream",
     "text": [
      "\n"
     ]
    }
   ],
   "source": [
    "psi_1 = zeros(Tc1/dT-1,1);\n",
    "psi_2 = zeros(Tc1/dT-1,1);\n",
    "\n",
    "%Find Psi(T) values\n",
    "\n",
    "PsiMax = 8; \n",
    "PsiMin = 0;\n",
    "\n",
    "i = 0;\n",
    "T = 0:dT:Tf;\n",
    "for t = T\n",
    "    i=i+1;\n",
    "\n",
    "    out = solve_F(alpha_0,beta,gama,n,Tc1,Tc2,t,PsiMax,PsiMin);\n",
    "    psi_1(i) = out(1);\n",
    "    psi_2(i) = out(2);\n",
    "    PsiMax = max([psi_1(i),psi_2(i)]) * (1.3);\n",
    "    PsiMin = min([psi_1(i),psi_2(i)]) * (0.30);\n",
    "end"
   ]
  },
  {
   "cell_type": "code",
   "execution_count": 22,
   "metadata": {
    "vscode": {
     "languageId": "plaintext"
    }
   },
   "outputs": [
    {
     "data": {
      "image/png": "[encoded data removed]",
      "text/plain": [
       "<IPython.core.display.Image object>"
      ]
     },
     "metadata": {},
     "output_type": "display_data"
    }
   ],
   "source": [
    "plot(T(1:length(psi_1)),psi_1,'r')\n",
    "hold on\n",
    "plot(T(1:length(psi_1)),psi_2,'b')\n",
    "T=0:dT:Tf;\n",
    "plot(T,psi1_nocoup,'r--')\n",
    "plot(T,psi2_nocoup,'b--')"
   ]
  },
  {
   "cell_type": "markdown",
   "metadata": {},
   "source": [
    "#### $F_{\\psi_1\\psi_2}=\\nu(|\\psi_1|^2|\\psi_2|^2)$"
   ]
  },
  {
   "cell_type": "markdown",
   "metadata": {},
   "source": [
    "$$F=\\alpha_1|\\psi_1|^2+\\alpha_2|\\psi_2|^2+\\frac{\\beta}{2}(|\\psi_1|^4+|\\psi_2|^4)+ \\frac{\\gamma}{3}|\\psi_2|^6+\\nu(|\\psi_1|^2|\\psi_2|^2)$$"
   ]
  },
  {
   "cell_type": "markdown",
   "metadata": {},
   "source": [
    "To find the extreme points we take the derivative of the free energy with respect to {$|\\psi_1|,|\\psi_2|$},\n",
    "$$\\frac{dF}{d|\\psi_1|}=2\\alpha|\\psi_1|+2\\beta|\\psi_1|^3+2\\nu|\\psi_1||\\psi_2|^2=0$$\n",
    "$$\\frac{dF}{d|\\psi_2|}=2\\alpha|\\psi_2|+2\\beta|\\psi_2|^3+2\\gamma|\\psi_2|^5+2\\nu|\\psi_1|^2|\\psi_2|=0$$\n",
    "\n",
    "Solving $\\psi_1$:\n",
    "\n",
    "$$\\alpha|\\psi_1|+\\beta|\\psi_1|^3+\\nu|\\psi_1||\\psi_2|^2=0 \n",
    "\\Leftrightarrow\n",
    "|\\psi_1|(\\alpha+\\beta|\\psi_1|^2+\\nu|\\psi_2|^2)=0$$\n",
    "$$|\\psi_1|=0 \\vee |\\psi_2|^2 = -\\frac{1}{\\nu}(\\alpha+\\beta|\\psi_1|^2)$$\n",
    "\n",
    "Solving $\\psi_2$:\n",
    "\n",
    "$$\\alpha|\\psi_2|+\\beta|\\psi_2|^3+\\nu|\\psi_1|^2|\\psi_2|+\\gamma|\\psi_2|^5=0 \n",
    "\\Leftrightarrow\n",
    "|\\psi_2|(\\alpha+\\beta|\\psi_2|^2+\\gamma|\\psi_2|^4+\\nu|\\psi_1|^2)=0$$\n",
    "$$|\\psi_2|=0 \\vee |\\psi_2|^2 = \\frac{-\\beta\\pm\\sqrt{\\beta^2-4\\gamma(\\alpha+\\nu|\\psi_1|^2)}}{2\\gamma}$$\n",
    "\n",
    "Therefore\n",
    "\n",
    "$$-\\frac{1}{\\nu}(\\alpha+\\beta|\\psi_1|^2)=\\frac{-\\beta\\pm\\sqrt{\\beta^2-4\\gamma(\\alpha+\\nu|\\psi_1|^2)}}{2\\gamma}$$\n",
    "$$(2\\frac{\\gamma^2}{\\nu^2}\\alpha\\beta-\\frac{\\gamma}{\\nu}\\beta^2+\\gamma\\nu)|\\psi_1|^2 +\n",
    "(\\frac{\\gamma^2}{\\nu^2}\\beta^2)|\\psi_1|^4+(\\gamma\\alpha-\\frac{\\gamma}{\\nu}\\beta\\alpha+\\frac{\\gamma^2}{\\nu}\\alpha^2) = 0$$\n",
    "\n",
    "$|\\psi_1|$ can be expressed as:\n",
    "\n",
    "$$A = (\\frac{\\gamma}{\\nu}\\beta)^2$$\n",
    "$$B = 2\\frac{\\gamma^2}{\\nu^2}\\alpha\\beta - \\frac{\\gamma}{\\nu}\\beta^2 + \\gamma\\nu$$\n",
    "$$C = \\frac{\\gamma^2}{\\nu}\\alpha^2+\\gamma\\alpha-\\frac{\\gamma}{\\nu}\\beta\\alpha$$\n",
    "$$|\\psi_1|^2 = \\frac{-B \\pm \\sqrt{B^2-4AC}}{2A}$$"
   ]
  },
  {
   "cell_type": "code",
   "execution_count": 71,
   "metadata": {
    "vscode": {
     "languageId": "plaintext"
    }
   },
   "outputs": [],
   "source": [
    "A = ((gama/n)*beta)^2;\n",
    "B = @(T) 2*(gama/n)^2*alpha_1(T)*beta - (gama/n)*beta^2 + gama*n;\n",
    "C = @(T) (gama^2/n)*alpha_1(T).^2 + gama*alpha_2(T) - (gama/n)*beta*alpha_1(T);\n",
    "\n",
    "%%%Psi 1%%%%\n",
    "Psi_1_plus_plus = @(T) sqrt((-B(T) + sqrt(B(T).^2-4*A.*C(T)))./(2*A));\n",
    "Psi_1_plus_minus = @(T) sqrt((-B(T) - sqrt(B(T).^2-4*A.*C(T)))./(2*A));\n",
    "\n",
    "\n",
    "\n",
    "%%%Psi 2%%%%\n",
    "Psi_2_plus_pm = @(T) (T<Tc2) .* sqr((-1/n) * (alpha_1(T)+beta*Psi_1_plus_minus(T).^2));"
   ]
  },
  {
   "cell_type": "code",
   "execution_count": 72,
   "id": "07a3bcec",
   "metadata": {
    "vscode": {
     "languageId": "json"
    }
   },
   "outputs": [
    {
     "name": "stdout",
     "output_type": "stream",
     "text": [
      "Warning: Imaginary parts of complex X and/or Y arguments ignored.\n",
      "Warning: Imaginary parts of complex X and/or Y arguments ignored.\n"
     ]
    },
    {
     "data": {
      "image/png": "[encoded data removed]",
      "text/plain": [
       "<IPython.core.display.Image object>"
      ]
     },
     "metadata": {},
     "output_type": "display_data"
    }
   ],
   "source": [
    "T = 0:dT:Tf;\n",
    "figure(1)\n",
    "sgtitle('\\psi_1')\n",
    "plot(T,Psi_1_plus_plus(T),'b')\n",
    "hold on\n",
    "plot(T,Psi_1_plus_minus(T),'r')\n",
    "legend(\"+ +\",\"+ -\")"
   ]
  },
  {
   "cell_type": "code",
   "execution_count": 73,
   "id": "5e7d6d7a",
   "metadata": {
    "vscode": {
     "languageId": "json"
    }
   },
   "outputs": [
    {
     "name": "stdout",
     "output_type": "stream",
     "text": [
      "Warning: Ignoring extra legend entries.\n",
      "> In legend>process_inputs (line 592)\n",
      "In legend>make_legend (line 319)\n",
      "In legend (line 263)\n"
     ]
    },
    {
     "data": {
      "image/png": "[encoded data removed]",
      "text/plain": [
       "<IPython.core.display.Image object>"
      ]
     },
     "metadata": {},
     "output_type": "display_data"
    }
   ],
   "source": [
    "figure(2)\n",
    "sgtitle('\\psi_2')\n",
    "plot(T,Psi_2_plus_pm(T),\"c\")\n",
    "\n",
    "legend(\"+ + +\",\"+ + -\")"
   ]
  },
  {
   "cell_type": "code",
   "execution_count": null,
   "metadata": {
    "vscode": {
     "languageId": "json"
    }
   },
   "outputs": [],
   "source": []
  },
  {
   "cell_type": "code",
   "execution_count": null,
   "metadata": {
    "vscode": {
     "languageId": "json"
    }
   },
   "outputs": [],
   "source": []
  }
 ],
 "metadata": {
  "kernelspec": {
   "display_name": "Matlab",
   "language": "matlab",
   "name": "matlab"
  },
  "language_info": {
   "codemirror_mode": "octave",
   "file_extension": ".m",
   "help_links": [
    {
     "text": "MetaKernel Magics",
     "url": "https://metakernel.readthedocs.io/en/latest/source/README.html"
    }
   ],
   "mimetype": "text/x-octave",
   "name": "matlab",
   "version": "0.16.11"
  },
  "orig_nbformat": 4
 },
 "nbformat": 4,
 "nbformat_minor": 2
}
